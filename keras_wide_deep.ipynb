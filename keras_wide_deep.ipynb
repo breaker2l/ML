{
  "nbformat": 4,
  "nbformat_minor": 0,
  "metadata": {
    "colab": {
      "name": "keras-wide-deep.ipynb",
      "provenance": [],
      "collapsed_sections": [],
      "include_colab_link": true
    },
    "kernelspec": {
      "name": "python3",
      "display_name": "Python 3"
    }
  },
  "cells": [
    {
      "cell_type": "markdown",
      "metadata": {
        "id": "view-in-github",
        "colab_type": "text"
      },
      "source": [
        "<a href=\"https://colab.research.google.com/github/breaker2l/ML/blob/master/keras_wide_deep.ipynb\" target=\"_parent\"><img src=\"https://colab.research.google.com/assets/colab-badge.svg\" alt=\"Open In Colab\"/></a>"
      ]
    },
    {
      "cell_type": "code",
      "metadata": {
        "id": "3dtR-aDtFjfr",
        "colab_type": "code",
        "colab": {}
      },
      "source": [
        "from __future__ import absolute_import\n",
        "from __future__ import division\n",
        "from __future__ import print_function"
      ],
      "execution_count": 0,
      "outputs": []
    },
    {
      "cell_type": "code",
      "metadata": {
        "id": "emeqRCJ_F6sp",
        "colab_type": "code",
        "outputId": "af213871-d2ce-4526-851c-c88ee287c8d5",
        "colab": {
          "base_uri": "https://localhost:8080/",
          "height": 121
        }
      },
      "source": [
        "#install the latest version of Tensorflow\n",
        "!pip install -q -U tensorflow==1.7.0"
      ],
      "execution_count": 0,
      "outputs": [
        {
          "output_type": "stream",
          "text": [
            "\u001b[K     |████████████████████████████████| 48.0MB 1.6MB/s \n",
            "\u001b[K     |████████████████████████████████| 3.1MB 30.2MB/s \n",
            "\u001b[K     |████████████████████████████████| 890kB 46.1MB/s \n",
            "\u001b[?25h  Building wheel for html5lib (setup.py) ... \u001b[?25l\u001b[?25hdone\n",
            "\u001b[31mERROR: magenta 0.3.19 has requirement tensorflow>=1.12.0, but you'll have tensorflow 1.7.0 which is incompatible.\u001b[0m\n"
          ],
          "name": "stdout"
        }
      ]
    },
    {
      "cell_type": "code",
      "metadata": {
        "id": "PewvBKlGGEoU",
        "colab_type": "code",
        "outputId": "1abc1e59-6ad4-43d9-993d-3c9b4f760023",
        "colab": {
          "base_uri": "https://localhost:8080/",
          "height": 34
        }
      },
      "source": [
        "import itertools\n",
        "import os\n",
        "import math\n",
        "import numpy as np\n",
        "import pandas as pd\n",
        "import tensorflow as tf\n",
        "\n",
        "from sklearn.preprocessing import LabelEncoder\n",
        "from tensorflow import keras\n",
        "layers = keras.layers\n",
        "\n",
        "#This code was testes with tensoflow v1.7\n",
        "print(\"You have Tensorflow version\",tf.__version__)"
      ],
      "execution_count": 0,
      "outputs": [
        {
          "output_type": "stream",
          "text": [
            "You have Tesorflow version 1.7.0\n"
          ],
          "name": "stdout"
        }
      ]
    },
    {
      "cell_type": "code",
      "metadata": {
        "id": "_fBl0QN8Gpo-",
        "colab_type": "code",
        "colab": {}
      },
      "source": [
        "#Get the data:original source is here : https://www.kaggle.com/zynicide/wine-reviews/data\n",
        "URL = \"https://storage.googleapis.com/sara-cloud-ml/wine_data.csv\"\n",
        "path = tf.keras.utils.get_file(URL.split('/')[-1],URL)"
      ],
      "execution_count": 0,
      "outputs": []
    },
    {
      "cell_type": "code",
      "metadata": {
        "id": "V7euuxoSHYM6",
        "colab_type": "code",
        "colab": {}
      },
      "source": [
        "#Convert the data to a pandas dataframe\n",
        "data = pd.read_csv(path)"
      ],
      "execution_count": 0,
      "outputs": []
    },
    {
      "cell_type": "code",
      "metadata": {
        "id": "jGQNBZmPIX22",
        "colab_type": "code",
        "outputId": "4e00fdcd-c667-471f-bb16-8a059e9bad2b",
        "colab": {
          "base_uri": "https://localhost:8080/",
          "height": 551
        }
      },
      "source": [
        "#shuffle the data\n",
        "data = data.sample(frac=1)\n",
        "\n",
        "#print the first 5 rows\n",
        "data.head()"
      ],
      "execution_count": 0,
      "outputs": [
        {
          "output_type": "execute_result",
          "data": {
            "text/html": [
              "<div>\n",
              "<style scoped>\n",
              "    .dataframe tbody tr th:only-of-type {\n",
              "        vertical-align: middle;\n",
              "    }\n",
              "\n",
              "    .dataframe tbody tr th {\n",
              "        vertical-align: top;\n",
              "    }\n",
              "\n",
              "    .dataframe thead th {\n",
              "        text-align: right;\n",
              "    }\n",
              "</style>\n",
              "<table border=\"1\" class=\"dataframe\">\n",
              "  <thead>\n",
              "    <tr style=\"text-align: right;\">\n",
              "      <th></th>\n",
              "      <th>Unnamed: 0</th>\n",
              "      <th>country</th>\n",
              "      <th>description</th>\n",
              "      <th>designation</th>\n",
              "      <th>points</th>\n",
              "      <th>price</th>\n",
              "      <th>province</th>\n",
              "      <th>region_1</th>\n",
              "      <th>region_2</th>\n",
              "      <th>variety</th>\n",
              "      <th>winery</th>\n",
              "    </tr>\n",
              "  </thead>\n",
              "  <tbody>\n",
              "    <tr>\n",
              "      <th>40005</th>\n",
              "      <td>40005</td>\n",
              "      <td>Italy</td>\n",
              "      <td>Here's a simple and bright Moscato d'Asti that...</td>\n",
              "      <td>Antica Casa</td>\n",
              "      <td>85</td>\n",
              "      <td>NaN</td>\n",
              "      <td>Piedmont</td>\n",
              "      <td>Moscato d'Asti</td>\n",
              "      <td>NaN</td>\n",
              "      <td>Moscato</td>\n",
              "      <td>Ricossa</td>\n",
              "    </tr>\n",
              "    <tr>\n",
              "      <th>41119</th>\n",
              "      <td>41119</td>\n",
              "      <td>Italy</td>\n",
              "      <td>Dried black cherry, pressed violet, tilled soi...</td>\n",
              "      <td>NaN</td>\n",
              "      <td>92</td>\n",
              "      <td>67.0</td>\n",
              "      <td>Veneto</td>\n",
              "      <td>Amarone della Valpolicella</td>\n",
              "      <td>NaN</td>\n",
              "      <td>Red Blend</td>\n",
              "      <td>I Saltari</td>\n",
              "    </tr>\n",
              "    <tr>\n",
              "      <th>93002</th>\n",
              "      <td>93002</td>\n",
              "      <td>France</td>\n",
              "      <td>A round wine, the flavors initially created by...</td>\n",
              "      <td>Sec</td>\n",
              "      <td>89</td>\n",
              "      <td>20.0</td>\n",
              "      <td>Southwest France</td>\n",
              "      <td>Jurançon Sec</td>\n",
              "      <td>NaN</td>\n",
              "      <td>White Blend</td>\n",
              "      <td>Château de Jurque</td>\n",
              "    </tr>\n",
              "    <tr>\n",
              "      <th>82582</th>\n",
              "      <td>82582</td>\n",
              "      <td>US</td>\n",
              "      <td>A really wonderful Cabernet, clearly grown wel...</td>\n",
              "      <td>Papa's Knoll</td>\n",
              "      <td>93</td>\n",
              "      <td>45.0</td>\n",
              "      <td>California</td>\n",
              "      <td>Napa Valley</td>\n",
              "      <td>Napa</td>\n",
              "      <td>Cabernet Sauvignon</td>\n",
              "      <td>Buehler</td>\n",
              "    </tr>\n",
              "    <tr>\n",
              "      <th>8944</th>\n",
              "      <td>8944</td>\n",
              "      <td>US</td>\n",
              "      <td>While smoke and char notes are prominent on th...</td>\n",
              "      <td>Blackbird</td>\n",
              "      <td>86</td>\n",
              "      <td>22.0</td>\n",
              "      <td>New York</td>\n",
              "      <td>Finger Lakes</td>\n",
              "      <td>Finger Lakes</td>\n",
              "      <td>Bordeaux-style Red Blend</td>\n",
              "      <td>Silver Thread</td>\n",
              "    </tr>\n",
              "  </tbody>\n",
              "</table>\n",
              "</div>"
            ],
            "text/plain": [
              "       Unnamed: 0 country  ...                   variety             winery\n",
              "40005       40005   Italy  ...                   Moscato            Ricossa\n",
              "41119       41119   Italy  ...                 Red Blend          I Saltari\n",
              "93002       93002  France  ...               White Blend  Château de Jurque\n",
              "82582       82582      US  ...        Cabernet Sauvignon            Buehler\n",
              "8944         8944      US  ...  Bordeaux-style Red Blend      Silver Thread\n",
              "\n",
              "[5 rows x 11 columns]"
            ]
          },
          "metadata": {
            "tags": []
          },
          "execution_count": 7
        }
      ]
    },
    {
      "cell_type": "code",
      "metadata": {
        "id": "5wRwlXXyImk8",
        "colab_type": "code",
        "colab": {}
      },
      "source": [
        "#Do some preprocessing to limit the # of wine varieties in the dataset\n",
        "data = data[pd.notnull(data['country'])]\n",
        "data = data[pd.notnull(data['price'])]\n",
        "data = data.drop(data.columns[0],axis=1)\n",
        "\n",
        "variety_threshold = 500 #Anything that occurs less than this will be removed\n",
        "value_counts = data['variety'].value_counts()\n",
        "to_remove = value_counts[value_counts <= variety_threshold].index\n",
        "data.replace(to_remove, np.nan,inplace=True)\n",
        "data = data[pd.notnull(data['variety'])]"
      ],
      "execution_count": 0,
      "outputs": []
    },
    {
      "cell_type": "code",
      "metadata": {
        "id": "P3-MFgRBKLNM",
        "colab_type": "code",
        "outputId": "6a084a5a-51ce-4a09-b742-0f7568118bfd",
        "colab": {
          "base_uri": "https://localhost:8080/",
          "height": 50
        }
      },
      "source": [
        "# split data into train and test\n",
        "train_size = int(len(data) * .8)\n",
        "print(\"Train size: %d\" % train_size)\n",
        "print(\"Test size:%d\" % (len(data) - train_size))"
      ],
      "execution_count": 0,
      "outputs": [
        {
          "output_type": "stream",
          "text": [
            "Train size: 95646\n",
            "Test size:23912\n"
          ],
          "name": "stdout"
        }
      ]
    },
    {
      "cell_type": "code",
      "metadata": {
        "id": "mpH3o4pDKtKj",
        "colab_type": "code",
        "colab": {}
      },
      "source": [
        "#Train features\n",
        "description_train = data['description'][:train_size]\n",
        "variety_train = data['variety'][:train_size]\n",
        "\n",
        "#Train labels\n",
        "labels_train = data['price'][:train_size]\n",
        "\n",
        "#Test features\n",
        "description_test = data['description'][train_size:]\n",
        "variety_test = data['variety'][train_size:]\n",
        "\n",
        "\n",
        "#Train labels\n",
        "labels_test = data['price'][train_size:]\n"
      ],
      "execution_count": 0,
      "outputs": []
    },
    {
      "cell_type": "code",
      "metadata": {
        "id": "h8oDXtgCL3Kr",
        "colab_type": "code",
        "colab": {}
      },
      "source": [
        "#Create a tokenizer to preprocess our text description \n",
        "vocab_size = 12000#This is a hyperparameter,experiment with different values for your dataset\n",
        "tokenize = keras.preprocessing.text.Tokenizer(num_words=vocab_size, char_level=False)\n",
        "tokenize.fit_on_texts(description_train) #only fit on train\n"
      ],
      "execution_count": 0,
      "outputs": []
    },
    {
      "cell_type": "code",
      "metadata": {
        "id": "dulzDqfmMrEt",
        "colab_type": "code",
        "colab": {}
      },
      "source": [
        "#wide feature 1:sparse bag of words (bow) vocab_size vector\n",
        "description_bow_train = tokenize.texts_to_matrix(description_train)\n",
        "\n",
        "description_bow_test = tokenize.texts_to_matrix(description_test)"
      ],
      "execution_count": 0,
      "outputs": []
    },
    {
      "cell_type": "code",
      "metadata": {
        "id": "mr5WVWdINB23",
        "colab_type": "code",
        "colab": {}
      },
      "source": [
        "#wide feature 2: one hot vector of variety categories\n",
        "\n",
        "#use sklearn utility to convert label strings to numbered index\n",
        "encoder = LabelEncoder()\n",
        "encoder.fit(variety_train)\n",
        "variety_train = encoder.transform(variety_train)\n",
        "variety_test = encoder.transform(variety_test)\n",
        "num_classes = np.max(variety_train) + 1\n",
        "\n",
        "#convert labels to one hot\n",
        "variety_train = keras.utils.to_categorical(variety_train, num_classes)\n",
        "\n",
        "variety_test = keras.utils.to_categorical(variety_test, num_classes)\n"
      ],
      "execution_count": 0,
      "outputs": []
    },
    {
      "cell_type": "code",
      "metadata": {
        "id": "mW_wiMgROExN",
        "colab_type": "code",
        "colab": {}
      },
      "source": [
        "#Define our wide model with the functional API\n",
        "bow_inputs = layers.Input(shape=(vocab_size))\n",
        "variety_inputs = layers.Input(shape=(num_classes,))\n",
        "merged_layer = layers.concatenate([bow_inputs,variety_inputs])\n",
        "merged_layer = layers.Dense(256, activation='relu')(merged_layer)\n",
        "predictions = layers.Dense(1)(merged_layer)\n",
        "wide_model = keras.Model(inputs=[bow_inputs,variety_inputs],output=predictions)"
      ],
      "execution_count": 0,
      "outputs": []
    },
    {
      "cell_type": "code",
      "metadata": {
        "id": "fHn6-ZMjSEEw",
        "colab_type": "code",
        "outputId": "9ff2f523-f550-4262-d4c8-e76c943e7763",
        "colab": {
          "base_uri": "https://localhost:8080/",
          "height": 198
        }
      },
      "source": [
        "wide_model.compile(loss='mse', optimizer='adam', metrics=['accuracy'])\n",
        "print(wide_model.summary())"
      ],
      "execution_count": 0,
      "outputs": [
        {
          "output_type": "error",
          "ename": "NameError",
          "evalue": "ignored",
          "traceback": [
            "\u001b[0;31m---------------------------------------------------------------------------\u001b[0m",
            "\u001b[0;31mNameError\u001b[0m                                 Traceback (most recent call last)",
            "\u001b[0;32m<ipython-input-14-dcdf8d3de43c>\u001b[0m in \u001b[0;36m<module>\u001b[0;34m()\u001b[0m\n\u001b[0;32m----> 1\u001b[0;31m \u001b[0mwide_model\u001b[0m\u001b[0;34m.\u001b[0m\u001b[0mcompile\u001b[0m\u001b[0;34m(\u001b[0m\u001b[0mloss\u001b[0m\u001b[0;34m=\u001b[0m\u001b[0;34m'mse'\u001b[0m\u001b[0;34m,\u001b[0m \u001b[0moptimizer\u001b[0m\u001b[0;34m=\u001b[0m\u001b[0;34m'adam'\u001b[0m\u001b[0;34m,\u001b[0m \u001b[0mmetrics\u001b[0m\u001b[0;34m=\u001b[0m\u001b[0;34m[\u001b[0m\u001b[0;34m'accuracy'\u001b[0m\u001b[0;34m]\u001b[0m\u001b[0;34m)\u001b[0m\u001b[0;34m\u001b[0m\u001b[0;34m\u001b[0m\u001b[0m\n\u001b[0m\u001b[1;32m      2\u001b[0m \u001b[0mprint\u001b[0m\u001b[0;34m(\u001b[0m\u001b[0mwide_model\u001b[0m\u001b[0;34m.\u001b[0m\u001b[0msummary\u001b[0m\u001b[0;34m(\u001b[0m\u001b[0;34m)\u001b[0m\u001b[0;34m)\u001b[0m\u001b[0;34m\u001b[0m\u001b[0;34m\u001b[0m\u001b[0m\n",
            "\u001b[0;31mNameError\u001b[0m: name 'wide_model' is not defined"
          ]
        }
      ]
    },
    {
      "cell_type": "code",
      "metadata": {
        "id": "Zu1u2tCOSZGi",
        "colab_type": "code",
        "colab": {}
      },
      "source": [
        "#Deep model feature: word embeddings of wine description\n",
        "train_embed = tokenize.texts_to_sequences(description_train)\n",
        "test_embed = tokenize.texts_to_sequences(description_test)\n",
        "\n",
        "max_seq_length = 170\n",
        "train_embed = keras.preprocessing.sequence.pad_sequence(\n",
        "    train_embed,maxlen=max_seq_length,padding=\"post\")\n",
        "test_embed = keras.preprocessing.sequence.pad_sequence(\n",
        "    test_embed,maxlen=max_seq_length,padding=\"post\")\n",
        "\n"
      ],
      "execution_count": 0,
      "outputs": []
    },
    {
      "cell_type": "code",
      "metadata": {
        "id": "-SX-FR7yUAUG",
        "colab_type": "code",
        "colab": {}
      },
      "source": [
        "#define our deep model with the functional Api\n",
        "deep_inputs = layers.Input(shape=(max_seq_length,))\n",
        "embedding = layers.Embedding(vocab_size, 8 , input_length=max_seq_length)(deep_inputs)\n",
        "embedding = layers.Flatten()(embedding)\n",
        "embed_out = layers.Dense(1)(embedding)\n",
        "deep_model = keras.Model(inputs=deep_inputs, outputs=embed_out)\n",
        "print(deep_model.summary())"
      ],
      "execution_count": 0,
      "outputs": []
    },
    {
      "cell_type": "code",
      "metadata": {
        "id": "H_F0L8d0VHuD",
        "colab_type": "code",
        "colab": {}
      },
      "source": [
        "deep_model.compile(loss='mse',optimizer='adam',metrics['accuracy'])"
      ],
      "execution_count": 0,
      "outputs": []
    },
    {
      "cell_type": "code",
      "metadata": {
        "id": "fJfHV-LxVUsq",
        "colab_type": "code",
        "colab": {}
      },
      "source": [
        "#Combine wide and deep into one model\n",
        "merged_out = layers.concatenate([wide_model.output, deep_model.output])\n",
        "merged_out = layers.Dense(1)(merged_out)\n",
        "combined_model = keras.Model(wide_model.input + [deep_model.input],merged_out)\n",
        "print(combined_model.summary())\n",
        "\n",
        "combined_model.compile(loss='mse',optimizer='adam',metrics=['accuracy'])"
      ],
      "execution_count": 0,
      "outputs": []
    },
    {
      "cell_type": "code",
      "metadata": {
        "id": "nu6PKGaCWJc4",
        "colab_type": "code",
        "colab": {}
      },
      "source": [
        "#Run training\n",
        "combined_model.fit([description_bow_train,variety_train] + [train_embed],labels_train,epochs=10, batch_size=128)\n"
      ],
      "execution_count": 0,
      "outputs": []
    },
    {
      "cell_type": "code",
      "metadata": {
        "id": "BP9RIU76WbZX",
        "colab_type": "code",
        "colab": {}
      },
      "source": [
        "combined_model.fit([description_bow_test,variety_test] + [test_embed],labels_test,epochs=10, batch_size=128)\n"
      ],
      "execution_count": 0,
      "outputs": []
    }
  ]
}